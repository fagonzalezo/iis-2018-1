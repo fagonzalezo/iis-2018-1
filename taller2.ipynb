{
 "cells": [
  {
   "cell_type": "markdown",
   "metadata": {},
   "source": [
    "# Taller 2\n",
    "## Introducción a los sistemas inteligentes 2018-1\n",
    "\n",
    "**Fecha límite de entrega**: _Miércoles 14 de marzo_ antes de la medianoche (ver instrucciones de envío al final)\n",
    "\n",
    "Integrantes del grupo (máximo 3):\n",
    "\n",
    "* Nombre_1 ID_1\n",
    "* Nombre_2 ID_2\n",
    "* Nombre_3 ID_3\n",
    "\n",
    "___________\n",
    "\n",
    "## El Masterball\n",
    "\n",
    "El Masterball es un rompecabezas que el cual consiste de una esfera dividida en 8 segmentos (o cascos) y dividida horizontalmente en 4 capas. Cada segmento tiene un color diferente, La siguiente figura ilustra como se ve un Masterball:\n",
    "\n",
    "<img src=\"http://www.cs.brandeis.edu/~storer/JimPuzzles/RUBIK/MasterBall/MasterBallRainbow.jpg\" \n",
    "alt=\"The Masterball\" width=\"240\" height=\"180\" border=\"10\" />\n",
    "\n",
    "\n",
    "Hay dos tipos de movimientos: un medio giro a lo largo de cualquier meridianoy un $\\frac{1}{8}$ de giro de cualquiera de las 4 capas.\n",
    "\n",
    "Su objetivo es modelar el Masterball como un problema de búsqueda y resolverlo usando diferentes algoritmos de búsqueda.\n",
    "\n",
    "_________\n"
   ]
  },
  {
   "cell_type": "markdown",
   "metadata": {},
   "source": [
    "### 1. Cree una clase para modelar el problema del Masterball"
   ]
  },
  {
   "cell_type": "markdown",
   "metadata": {},
   "source": [
    "Un Masterball debe representarse como una lista de listas con valores enteros que representan el color de la ficha en cada posición.\n",
    "\n",
    "Por ejemplo un masterball resuelto debe verse así:\n",
    "\n",
    "```python\n",
    "[ [0, 1, 2, 3, 4, 5, 6, 7],\n",
    "  [0, 1, 2, 3, 4, 5, 6, 7],\n",
    "  [0, 1, 2, 3, 4, 5, 6, 7],\n",
    "  [0, 1, 2, 3, 4, 5, 6, 7]\n",
    "]\n",
    "```"
   ]
  },
  {
   "cell_type": "markdown",
   "metadata": {},
   "source": [
    "#### Definición de acciones\n",
    "\n",
    "Las siguientes variables definen las posibles acciones que se pueden ejecutar:"
   ]
  },
  {
   "cell_type": "code",
   "execution_count": 1,
   "metadata": {
    "collapsed": true
   },
   "outputs": [],
   "source": [
    "'''\n",
    "This variables MUST not be changed.\n",
    "They represent the movements of the masterball.\n",
    "'''\n",
    "R_0 = \"Right 0\"\n",
    "R_1 = \"Right 1\"\n",
    "R_2 = \"Right 2\"\n",
    "R_3 = \"Right 3\"\n",
    "\n",
    "V_0 = \"Vertical 0\"\n",
    "V_1 = \"Vertical 1\"\n",
    "V_2 = \"Vertical 2\"\n",
    "V_3 = \"Vertical 3\"\n",
    "V_4 = \"Vertical 4\"\n",
    "V_5 = \"Vertical 5\"\n",
    "V_6 = \"Vertical 6\"\n",
    "V_7 = \"Vertical 7\"\n"
   ]
  },
  {
   "cell_type": "markdown",
   "metadata": {},
   "source": [
    "`R_i` mueve la `i`-ésima fila a la derecha. Por ejemplo, `R_2` aplicado al estado solución produce:\n",
    "\n",
    "```python\n",
    "[ [0, 1, 2, 3, 4, 5, 6, 7],\n",
    "  [0, 1, 2, 3, 4, 5, 6, 7],\n",
    "  [7, 0, 1, 2, 3, 4, 5, 6],\n",
    "  [0, 1, 2, 3, 4, 5, 6, 7]\n",
    "]\n",
    "```\n",
    "\n",
    "`V_i` realiza un movimiento vertical en el sentido de las manecillas del reloj empezando en la `i`-ésima columna.\n",
    "\n",
    "`V_1` aplicado al estado anterior produce:\n",
    "\n",
    "```python\n",
    "[ [0, 4, 3, 2, 1, 5, 6, 7],\n",
    "  [0, 3, 2, 1, 0, 5, 6, 7],\n",
    "  [7, 4, 3, 2, 1, 4, 5, 6],\n",
    "  [0, 4, 3, 2, 1, 5, 6, 7]\n",
    "]\n",
    "```"
   ]
  },
  {
   "cell_type": "markdown",
   "metadata": {},
   "source": [
    "#### Masterball problem class"
   ]
  },
  {
   "cell_type": "code",
   "execution_count": 3,
   "metadata": {
    "collapsed": true
   },
   "outputs": [],
   "source": [
    "import search\n",
    "class masterball_problem(search.Problem):    \n",
    "    \n",
    "    def __init__(self, startState):\n",
    "        '''\n",
    "        Store the initial state in the problem representation and any useful\n",
    "        data.\n",
    "        Here are some examples of initial states:\n",
    "        [[0, 1, 4, 5, 6, 2, 3, 7], [0, 1, 3, 4, 5, 6, 3, 7], [1, 2, 4, 5, 6, 2, 7, 0], [0, 1, 4, 5, 6, 2, 3, 7]]\n",
    "        [[0, 7, 4, 5, 1, 6, 2, 3], [0, 7, 4, 5, 0, 5, 2, 3], [7, 6, 3, 4, 1, 6, 1, 2], [0, 7, 4, 5, 1, 6, 2, 3]]\n",
    "        [[0, 1, 6, 4, 5, 2, 3, 7], [0, 2, 6, 5, 1, 3, 4, 7], [0, 2, 6, 5, 1, 3, 4, 7], [0, 5, 6, 4, 1, 2, 3, 7]]\n",
    "        '''\n",
    "        self.expanded = 0\n",
    "        ### your code here ###\n",
    "        pass\n",
    "    \n",
    "    \n",
    "    def goal_test(self, state):\n",
    "        '''\n",
    "        Define when a given state is a goal state (A correctly colored masterball)\n",
    "        '''\n",
    "        ### your code here ###\n",
    "        pass\n",
    "    \n",
    "    def getStartState(self):\n",
    "        '''\n",
    "        Implement a method that returns the start state.\n",
    "        '''\n",
    "        ### your code here ###\n",
    "        pass\n",
    "\n",
    "    def actions(self, state):\n",
    "        \"\"\"Return the actions that can be executed in the given\n",
    "        state.\"\"\"\n",
    "        '''\n",
    "        Implement a successor function: Given a state from the masterball\n",
    "        return a list of the successors and their corresponding actions. \n",
    "\n",
    "        This method *must* return a list where each element is a tuple of \n",
    "        three elements with the state of the masterball in the first position,\n",
    "        the action (according to the definition above) in the second position, \n",
    "        and the cost of the action in the last position. \n",
    "\n",
    "        Note that you should not modify the state.\n",
    "        '''\n",
    "        ### your code here ###\n",
    "        pass\n",
    "\n",
    "    def result(self, state, action):\n",
    "        \"\"\"Return the state that results from executing the given\n",
    "        action in the given state. The action must be one of\n",
    "        self.actions(state).\"\"\"\n",
    "        self.expanded += 1\n",
    "        ### your code here ###\n",
    "        pass\n",
    "                          \n",
    "    def path_cost(self, c, state1, action, state2):\n",
    "        \"\"\"Return the cost of a solution path that arrives at state2 from\n",
    "        state1 via action, assuming cost c to get up to state1. If the problem\n",
    "        is such that the path doesn't matter, this function will only look at\n",
    "        state2. If the path does matter, it will consider c and maybe state1\n",
    "        and action. The default method costs 1 for every step in the path.\"\"\"\n",
    "        ### your code here ###\n",
    "        pass\n"
   ]
  },
  {
   "cell_type": "markdown",
   "metadata": {},
   "source": [
    "### 2. Evalue su código con diferentes estrategias de búsqueda\n",
    "\n"
   ]
  },
  {
   "cell_type": "code",
   "execution_count": 2,
   "metadata": {
    "collapsed": true
   },
   "outputs": [],
   "source": [
    "def bfs(problem):\n",
    "    ### your code here ###\n",
    "    return []\n",
    "\n",
    "def iterativeDeepeningSearch(problem):\n",
    "    ### your code here ###\n",
    "    return []\n",
    "\n",
    "def nullHeuristic(state):\n",
    "    return 0\n",
    "\n",
    "def aStarSearch(problem, heuristic=nullHeuristic):\n",
    "    ### your code here ###\n",
    "    return []\n",
    "\n",
    "problem = masterball_problem([[0, 1, 4, 5, 6, 2, 3, 7], \n",
    "                              [0, 1, 3, 4, 5, 6, 3, 7], \n",
    "                              [1, 2, 4, 5, 6, 2, 7, 0], \n",
    "                              [0, 1, 4, 5, 6, 2, 3, 7]])\n",
    "\n",
    "actions = bfs(problem)\n",
    "print(actions)\n",
    "actions = iterativeDeepeningSearch(problem)\n",
    "print(actions)\n",
    "actions = aStartSearch(problem)\n",
    "print(actions)\n"
   ]
  },
  {
   "cell_type": "markdown",
   "metadata": {},
   "source": [
    "Evaluelo para ver cuál es la máxima profundidad que se puede alcanzar en un tiempo razonable con cada estrategia de búsqueda. Reporte los resultados."
   ]
  },
  {
   "cell_type": "markdown",
   "metadata": {},
   "source": [
    "### 3. Implemente diferente heurísticas para el problema"
   ]
  },
  {
   "cell_type": "markdown",
   "metadata": {
    "collapsed": true
   },
   "source": [
    "Implemente al menos dos heurísticas admisibles y consistentes. Compare A* usando las heurísticas contra IDS calculando el número de nodos expandidos. "
   ]
  },
  {
   "cell_type": "code",
   "execution_count": 5,
   "metadata": {
    "collapsed": true
   },
   "outputs": [],
   "source": [
    "def myHeuristic(state):\n",
    "    ### your code here ###\n",
    "    return 0"
   ]
  },
  {
   "cell_type": "code",
   "execution_count": 6,
   "metadata": {},
   "outputs": [
    {
     "name": "stdout",
     "output_type": "stream",
     "text": [
      "[]\n",
      "[]\n"
     ]
    }
   ],
   "source": [
    "problem = MasterballProblem([ [0, 4, 3, 2, 1, 5, 6, 7],\n",
    "                              [0, 3, 2, 1, 0, 5, 6, 7],\n",
    "                              [7, 4, 3, 2, 1, 4, 5, 6],\n",
    "                              [0, 4, 3, 2, 1, 5, 6, 7]])\n",
    "\n",
    "print(iterativeDeepeningSearch(problem))\n",
    "print(aStarSearch(problem, myHeuristic))"
   ]
  },
  {
   "cell_type": "markdown",
   "metadata": {},
   "source": [
    "**Instrucciones de envío:**\n",
    "\n",
    "Este notebook debe enviarse a través del siguiente [File Request](https://www.dropbox.com/request/pOjx8bNVGEu3iEGpaH8Z)\n",
    "antes de la medianoche de la fecha límite. El archivo debe nombrarse como \n",
    "`iis-taller2-unalusername1-unalusername2-unalusername3.ipynb`, donde `unalusername` es el nombre de usuario asignado por la universidad (incluya los nombres de usuario de todos los miembros del grupo)."
   ]
  }
 ],
 "metadata": {
  "kernelspec": {
   "display_name": "Python 3",
   "language": "python",
   "name": "python3"
  },
  "language_info": {
   "codemirror_mode": {
    "name": "ipython",
    "version": 3
   },
   "file_extension": ".py",
   "mimetype": "text/x-python",
   "name": "python",
   "nbconvert_exporter": "python",
   "pygments_lexer": "ipython3",
   "version": "3.6.3"
  }
 },
 "nbformat": 4,
 "nbformat_minor": 1
}
